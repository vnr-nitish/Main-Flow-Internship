{
  "nbformat": 4,
  "nbformat_minor": 0,
  "metadata": {
    "colab": {
      "provenance": []
    },
    "kernelspec": {
      "name": "python3",
      "display_name": "Python 3"
    },
    "language_info": {
      "name": "python"
    }
  },
  "cells": [
    {
      "cell_type": "markdown",
      "source": [
        "# Main Flow Services"
      ],
      "metadata": {
        "id": "7e-nnWtsotVM"
      }
    },
    {
      "cell_type": "markdown",
      "source": [
        "#Task-1: Understanding Python Data Types\n",
        "\n",
        "**Description:** This task involves understanding the basic data types in Python such as lists, dictionaries, and sets."
      ],
      "metadata": {
        "id": "zpP-lUMqo0Py"
      }
    },
    {
      "cell_type": "markdown",
      "source": [
        "# Lists & List Operations\n"
      ],
      "metadata": {
        "id": "NwdEVLe2pKmy"
      }
    },
    {
      "cell_type": "code",
      "source": [
        "#creating a list\n",
        "vnr=[110,63,149,134,26,370]\n",
        "\n",
        "#adding an elements to the list\n",
        "vnr.append(16)\n",
        "\n",
        "#removing an element from the list\n",
        "vnr.remove(26)\n",
        "\n",
        "#modifying an element in the list\n",
        "vnr[3]=2\n",
        "\n",
        "#print the update list\n",
        "print(\"Updated List:\",vnr)"
      ],
      "metadata": {
        "colab": {
          "base_uri": "https://localhost:8080/"
        },
        "id": "DJqlDmURpH-t",
        "outputId": "dfe25987-6bf1-410e-e0c5-aa4e0d02cb57"
      },
      "execution_count": null,
      "outputs": [
        {
          "output_type": "stream",
          "name": "stdout",
          "text": [
            "Updated List: [110, 63, 149, 2, 370, 16]\n"
          ]
        }
      ]
    },
    {
      "cell_type": "markdown",
      "source": [
        "# Dictionary and Dictionary Operations"
      ],
      "metadata": {
        "id": "UzMYU9W3qHyV"
      }
    },
    {
      "cell_type": "code",
      "source": [
        "#creating dictionary\n",
        "nitish={'fruit' : 'Mango', 'Quantity': '4', 'Taste':'Good'}\n",
        "\n",
        "#adding\n",
        "nitish['Rate']=20\n",
        "\n",
        "#removing\n",
        "del nitish['Taste']\n",
        "\n",
        "#modifying\n",
        "nitish['fruit']= 'apple'\n",
        "\n",
        "#print updated Dictionary\n",
        "print('Updated Dictionary:',nitish)"
      ],
      "metadata": {
        "colab": {
          "base_uri": "https://localhost:8080/"
        },
        "id": "s_UUjYdQqNJS",
        "outputId": "07b48166-18fa-4476-808c-5ffd5af5f3ee"
      },
      "execution_count": null,
      "outputs": [
        {
          "output_type": "stream",
          "name": "stdout",
          "text": [
            "Updated Dictionary: {'fruit': 'apple', 'Quantity': '4', 'Rate': 20}\n"
          ]
        }
      ]
    },
    {
      "cell_type": "markdown",
      "source": [
        "# Sets & Set Operations"
      ],
      "metadata": {
        "id": "NaIF2OM1rh4M"
      }
    },
    {
      "cell_type": "code",
      "source": [
        "#creating a set\n",
        "raj={'apple', 'mango', 'banana', 'Pineapple', 'orange'}\n",
        "\n",
        "#adding\n",
        "raj.add('watermelon')\n",
        "\n",
        "#removing\n",
        "raj.remove('Pineapple')\n",
        "\n",
        "#modifying\n",
        "raj.discard('orange')\n",
        "raj.add('papaya')\n",
        "\n",
        "#print the upadted set\n",
        "print('Updated Set:',raj)"
      ],
      "metadata": {
        "colab": {
          "base_uri": "https://localhost:8080/"
        },
        "id": "D3aw69qPrnRP",
        "outputId": "36b16258-b2b1-4c13-e5eb-c1cc72acbd80"
      },
      "execution_count": null,
      "outputs": [
        {
          "output_type": "stream",
          "name": "stdout",
          "text": [
            "Updated Set: {'mango', 'banana', 'apple', 'watermelon', 'papaya'}\n"
          ]
        }
      ]
    }
  ]
}